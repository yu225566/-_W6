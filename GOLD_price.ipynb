{
  "nbformat": 4,
  "nbformat_minor": 0,
  "metadata": {
    "colab": {
      "provenance": []
    },
    "kernelspec": {
      "name": "python3",
      "display_name": "Python 3"
    },
    "language_info": {
      "name": "python"
    }
  },
  "cells": [
    {
      "cell_type": "code",
      "execution_count": 2,
      "metadata": {
        "colab": {
          "base_uri": "https://localhost:8080/",
          "height": 945
        },
        "id": "Pd8foB3DzIyg",
        "outputId": "02b492c0-783a-41ec-e9ef-afe3abe68c58"
      },
      "outputs": [
        {
          "output_type": "stream",
          "name": "stdout",
          "text": [
            "2023-10-18 08:02:40\n",
            "Gold\n",
            "銀行買進: 1990\n",
            "銀行賣出: 2021\n",
            "2023-10-18 08:02:42\n",
            "Gold\n",
            "銀行買進: 1990\n",
            "銀行賣出: 2021\n",
            "2023-10-18 08:02:44\n",
            "Gold\n",
            "銀行買進: 1990\n",
            "銀行賣出: 2021\n",
            "2023-10-18 08:02:46\n",
            "Gold\n",
            "銀行買進: 1990\n",
            "銀行賣出: 2021\n",
            "2023-10-18 08:02:48\n",
            "Gold\n",
            "銀行買進: 1990\n",
            "銀行賣出: 2021\n",
            "2023-10-18 08:02:50\n",
            "Gold\n",
            "銀行買進: 1990\n",
            "銀行賣出: 2021\n",
            "2023-10-18 08:02:52\n",
            "Gold\n",
            "銀行買進: 1990\n",
            "銀行賣出: 2021\n",
            "2023-10-18 08:02:54\n",
            "Gold\n",
            "銀行買進: 1990\n",
            "銀行賣出: 2021\n",
            "2023-10-18 08:02:56\n",
            "Gold\n",
            "銀行買進: 1990\n",
            "銀行賣出: 2021\n",
            "2023-10-18 08:02:58\n",
            "Gold\n",
            "銀行買進: 1990\n",
            "銀行賣出: 2021\n"
          ]
        },
        {
          "output_type": "error",
          "ename": "KeyboardInterrupt",
          "evalue": "ignored",
          "traceback": [
            "\u001b[0;31m---------------------------------------------------------------------------\u001b[0m",
            "\u001b[0;31mKeyboardInterrupt\u001b[0m                         Traceback (most recent call last)",
            "\u001b[0;32m<ipython-input-2-a0b5643dab21>\u001b[0m in \u001b[0;36m<cell line: 6>\u001b[0;34m()\u001b[0m\n\u001b[1;32m     15\u001b[0m     \u001b[0mnote\u001b[0m \u001b[0;34m=\u001b[0m \u001b[0;34mf\"{current_time}{s1}\"\u001b[0m  \u001b[0;31m# 將時間添加到note變數\u001b[0m\u001b[0;34m\u001b[0m\u001b[0;34m\u001b[0m\u001b[0m\n\u001b[1;32m     16\u001b[0m     \u001b[0mprint\u001b[0m\u001b[0;34m(\u001b[0m\u001b[0mnote\u001b[0m\u001b[0;34m)\u001b[0m\u001b[0;34m\u001b[0m\u001b[0;34m\u001b[0m\u001b[0m\n\u001b[0;32m---> 17\u001b[0;31m     \u001b[0mtime\u001b[0m\u001b[0;34m.\u001b[0m\u001b[0msleep\u001b[0m\u001b[0;34m(\u001b[0m\u001b[0;36m1\u001b[0m\u001b[0;34m)\u001b[0m\u001b[0;34m\u001b[0m\u001b[0;34m\u001b[0m\u001b[0m\n\u001b[0m",
            "\u001b[0;31mKeyboardInterrupt\u001b[0m: "
          ]
        }
      ],
      "source": [
        "import time\n",
        "import urllib.request as request\n",
        "from bs4 import BeautifulSoup as sp\n",
        "\n",
        "j = 0\n",
        "while j == 0:\n",
        "    url = \"https://rate.bot.com.tw/gold?Lang=zh-TW\"\n",
        "    with request.urlopen(url) as response:\n",
        "        data = response.read().decode(\"utf-8\")\n",
        "    root = sp(data, \"html.parser\")\n",
        "    gold_in = (root.find_all(\"td\")[5].text.replace(\"回售\", \"\").strip())\n",
        "    gold_out = (root.find_all(\"td\")[2].text.replace(\"買進\", \"\").strip())\n",
        "    current_time = time.strftime(\"%Y-%m-%d %H:%M:%S\")  # 取得確切時間\n",
        "    s1 = (\"\\nGold\" + \"\\n銀行買進: \" + gold_in + \"\\n銀行賣出: \" + gold_out)\n",
        "    note = f\"{current_time}{s1}\"  # 將時間添加到note變數\n",
        "    print(note)\n",
        "    time.sleep(1)\n"
      ]
    }
  ]
}